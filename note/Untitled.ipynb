{
 "cells": [
  {
   "cell_type": "code",
   "execution_count": 23,
   "id": "36801279-1801-42a3-8fda-5d7d286dee74",
   "metadata": {},
   "outputs": [
    {
     "name": "stdout",
     "output_type": "stream",
     "text": [
      "\u001b[1m1/1\u001b[0m \u001b[32m━━━━━━━━━━━━━━━━━━━━\u001b[0m\u001b[37m\u001b[0m \u001b[1m0s\u001b[0m 100ms/step\n",
      "예측된 숫자: 2\n"
     ]
    }
   ],
   "source": [
    "import numpy as np\n",
    "from PIL import Image\n",
    "from keras.models import load_model\n",
    "\n",
    "# 모델 로드\n",
    "model = load_model('mnist240924.keras')  # 학습된 모델 파일 경로\n",
    "\n",
    "# 사용자 이미지 불러오기 및 전처리\n",
    "def preprocess_image(image_path):\n",
    "    img = Image.open(image_path).convert('L')  # 흑백 이미지로 변환\n",
    "    img = img.resize((28, 28))  # 크기 조정\n",
    "\n",
    "    # 흑백 반전\n",
    "    # img = 255 - np.array(img)  # 흑백 반전\n",
    "    img = np.array(img)\n",
    "    \n",
    "    img = np.array(img)\n",
    "    img = img.reshape(1, 28, 28, 1)  # 모델 입력 형태에 맞게 변형\n",
    "    img = img / 255.0  # 정규화\n",
    "    return img\n",
    "\n",
    "# 예측\n",
    "def predict_digit(image_path):\n",
    "    img = preprocess_image(image_path)\n",
    "    prediction = model.predict(img)\n",
    "    digit = np.argmax(prediction)\n",
    "    return digit\n",
    "\n",
    "# 사용자 이미지 경로\n",
    "image_path = '/home/haram/code/mnist/note/train_img/2_58315.png'\n",
    "\n",
    "# 예측 실행\n",
    "predicted_digit = predict_digit(image_path)\n",
    "print(\"예측된 숫자:\", predicted_digit)"
   ]
  },
  {
   "cell_type": "code",
   "execution_count": 5,
   "id": "2d0a8261-5e56-4462-8c73-b7046cbed978",
   "metadata": {},
   "outputs": [],
   "source": [
    "from tensorflow.keras.datasets import mnist\n",
    "import os"
   ]
  },
  {
   "cell_type": "code",
   "execution_count": 18,
   "id": "2b408993-c537-426f-9b3e-1c2cc209c9ca",
   "metadata": {},
   "outputs": [],
   "source": [
    "(train_images, train_labels), (test_images, test_labels) = mnist.load_data()"
   ]
  },
  {
   "cell_type": "code",
   "execution_count": 10,
   "id": "701f40b3-321a-4588-97ba-e6d3ab582119",
   "metadata": {},
   "outputs": [
    {
     "data": {
      "text/plain": [
       "(60000, 28, 28)"
      ]
     },
     "execution_count": 10,
     "metadata": {},
     "output_type": "execute_result"
    }
   ],
   "source": [
    "train_images.shape"
   ]
  },
  {
   "cell_type": "code",
   "execution_count": 24,
   "id": "1fdf8d95-d543-4893-8fe8-632d1b093b03",
   "metadata": {},
   "outputs": [
    {
     "name": "stdout",
     "output_type": "stream",
     "text": [
      "255255255255255255255255255255255255255255255255255255255255255255255255255255255255\n",
      "255255255255255255255255255255255255255255255255255255255255255255255255255255255255\n",
      "255255255255255255255255255255255255255255255255255255255255255255255255255255255255\n",
      "255255255255255255255255255255255255255255255255255255255255255255255255255255255255\n",
      "255255255255255255255255255255255255255255255255255255255255255255255255255255255255\n",
      "255255255255255255255255255255255255252237237237129119 80229 89  0  8128255255255255\n",
      "255255255255255255255255225219161101 85  2  2  2  2  2 30 83  2 13 60191255255255255\n",
      "255255255255255255255206 17  2  2  2  2  2  2  2  2  4162173173199216255255255255255\n",
      "255255255255255255255237 36  2  2  2  2  2 57 73  8 14255255255255255255255255255255\n",
      "255255255255255255255255175 99148  2  2 50244255212101255255255255255255255255255255\n",
      "255255255255255255255255255241254101  2165255255255255255255255255255255255255255255\n",
      "255255255255255255255255255255255116  2 65253255255255255255255255255255255255255255\n",
      "255255255255255255255255255255255244 65  2185255255255255255255255255255255255255255\n",
      "255255255255255255255255255255255255220 14 30 95147254255255255255255255255255255255\n",
      "255255255255255255255255255255255255255174 15  2  2136230255255255255255255255255255\n",
      "255255255255255255255255255255255255255255210 69  2  2105228255255255255255255255255\n",
      "255255255255255255255255255255255255255255255239162  3  2 68255255255255255255255255\n",
      "255255255255255255255255255255255255255255255255255  6  2  6191255255255255255255255\n",
      "255255255255255255255255255255255255255255209125 72  2  2 48253255255255255255255255\n",
      "255255255255255255255255255255255255216107 26  2  2  2  5 73255255255255255255255255\n",
      "255255255255255255255255255255231141 34  2  2  2  2 54177255255255255255255255255255\n",
      "255255255255255255255255232189 42  2  2  2  2 57174253255255255255255255255255255255\n",
      "255255255255255255237 84 36  2  2  2  2 60175246255255255255255255255255255255255255\n",
      "255255255255200 83 29  2  2  2  2 11122244255255255255255255255255255255255255255255\n",
      "255255255255119  2  2  2 43120123239255255255255255255255255255255255255255255255255\n",
      "255255255255255255255255255255255255255255255255255255255255255255255255255255255255\n",
      "255255255255255255255255255255255255255255255255255255255255255255255255255255255255\n",
      "255255255255255255255255255255255255255255255255255255255255255255255255255255255255\n"
     ]
    }
   ],
   "source": [
    "for x in 255 - train_images[0]:\n",
    "    for i in x:\n",
    "        print('{:3}'.format(i), end='')\n",
    "    print()"
   ]
  },
  {
   "cell_type": "code",
   "execution_count": 21,
   "id": "1614b7cf-f7c9-443c-bf0d-b6a2d72efa73",
   "metadata": {},
   "outputs": [],
   "source": [
    "save_dir=\"train_img\"\n",
    "\n",
    "def save_images(images, labels):\n",
    "    \n",
    "    if not os.path.exists(save_dir):\n",
    "        os.makedirs(save_dir)\n",
    "\n",
    "    for i, (image, label) in enumerate(zip(images,labels)):\n",
    "        img = Image.fromarray(image)\n",
    "        name = f'{label}_{i}.png'\n",
    "        img.save(os.path.join(save_dir, name))\n",
    "\n",
    "save_images(train_images, train_labels)"
   ]
  },
  {
   "cell_type": "code",
   "execution_count": null,
   "id": "adcfa4ba-26b3-421d-80ab-9ed632a25a08",
   "metadata": {},
   "outputs": [],
   "source": []
  }
 ],
 "metadata": {
  "kernelspec": {
   "display_name": "Python 3 (ipykernel)",
   "language": "python",
   "name": "python3"
  },
  "language_info": {
   "codemirror_mode": {
    "name": "ipython",
    "version": 3
   },
   "file_extension": ".py",
   "mimetype": "text/x-python",
   "name": "python",
   "nbconvert_exporter": "python",
   "pygments_lexer": "ipython3",
   "version": "3.11.9"
  }
 },
 "nbformat": 4,
 "nbformat_minor": 5
}
